{
 "cells": [
  {
   "cell_type": "code",
   "execution_count": 1,
   "id": "0bb5b84d",
   "metadata": {},
   "outputs": [
    {
     "data": {
      "text/plain": [
       "True"
      ]
     },
     "execution_count": 1,
     "metadata": {},
     "output_type": "execute_result"
    }
   ],
   "source": [
    "import os\n",
    "from dotenv import load_dotenv\n",
    "\n",
    "load_dotenv()"
   ]
  },
  {
   "cell_type": "code",
   "execution_count": 2,
   "id": "2fe01833",
   "metadata": {},
   "outputs": [],
   "source": [
    "groq_api_key = os.getenv(\"GROQ_API_KEY\")\n",
    "langsmith = os.getenv(\"LANGSMITH_API_KEY\")"
   ]
  },
  {
   "cell_type": "code",
   "execution_count": 4,
   "id": "754ff912",
   "metadata": {},
   "outputs": [],
   "source": [
    "os.environ[\"LANGCHAIN_TRACING_V2\"] = \"true\"\n",
    "os.environ[\"LANCHAIN_ENDPOINT\"] = \"https://api.langchain.com\"\n",
    "os.environ[\"LANGCHAIN_API_KEY\"] = langsmith\n",
    "os.environ[\"LANGCHAIN_PROJECT\"] = \"LANGGRAPH\""
   ]
  },
  {
   "cell_type": "code",
   "execution_count": 5,
   "id": "6d9a7822",
   "metadata": {},
   "outputs": [
    {
     "data": {
      "text/plain": [
       "ChatGroq(client=<groq.resources.chat.completions.Completions object at 0x0000022A3D9D9400>, async_client=<groq.resources.chat.completions.AsyncCompletions object at 0x0000022A3D61CB60>, model_name='llama-3.1-8b-instant', model_kwargs={}, groq_api_key=SecretStr('**********'))"
      ]
     },
     "execution_count": 5,
     "metadata": {},
     "output_type": "execute_result"
    }
   ],
   "source": [
    "from langchain_groq import ChatGroq\n",
    "\n",
    "llm = ChatGroq(api_key=groq_api_key, model= \"llama-3.1-8b-instant\")\n",
    "llm"
   ]
  },
  {
   "cell_type": "code",
   "execution_count": 6,
   "id": "d2c23541",
   "metadata": {},
   "outputs": [
    {
     "data": {
      "text/plain": [
       "AIMessage(content='Hello, world. How can I assist you today?', additional_kwargs={}, response_metadata={'token_usage': {'completion_tokens': 12, 'prompt_tokens': 39, 'total_tokens': 51, 'completion_time': 0.018734605, 'prompt_time': 0.001766204, 'queue_time': 0.053193526, 'total_time': 0.020500809}, 'model_name': 'llama-3.1-8b-instant', 'system_fingerprint': 'fp_e32974efee', 'service_tier': 'on_demand', 'finish_reason': 'stop', 'logprobs': None}, id='run--64ed1da3-a945-4a3f-a2fe-cf47c90ad65d-0', usage_metadata={'input_tokens': 39, 'output_tokens': 12, 'total_tokens': 51})"
      ]
     },
     "execution_count": 6,
     "metadata": {},
     "output_type": "execute_result"
    }
   ],
   "source": [
    "llm.invoke(\"Hello, world!\")"
   ]
  },
  {
   "cell_type": "markdown",
   "id": "6a770498",
   "metadata": {},
   "source": [
    "## Building Chatbot using LangGraph"
   ]
  },
  {
   "cell_type": "code",
   "execution_count": 9,
   "id": "72575c52",
   "metadata": {},
   "outputs": [],
   "source": [
    "from typing import Annotated\n",
    "from typing_extensions import TypedDict\n",
    "\n",
    "from langgraph.graph import StateGraph, START, END\n",
    "from langgraph.graph.message import add_messages"
   ]
  },
  {
   "cell_type": "code",
   "execution_count": 11,
   "id": "187808cc",
   "metadata": {},
   "outputs": [
    {
     "data": {
      "text/plain": [
       "<langgraph.graph.state.StateGraph at 0x22a3ecafdd0>"
      ]
     },
     "execution_count": 11,
     "metadata": {},
     "output_type": "execute_result"
    }
   ],
   "source": [
    "class State(TypedDict):\n",
    "    messages : Annotated[list, add_messages]\n",
    "\n",
    "graph_builder = StateGraph(State)\n",
    "graph_builder"
   ]
  },
  {
   "cell_type": "code",
   "execution_count": 12,
   "id": "1860c241",
   "metadata": {},
   "outputs": [],
   "source": [
    "def chatbot(state:State):\n",
    "    return {\"messages\":llm.invoke(state[\"messages\"])}\n"
   ]
  },
  {
   "cell_type": "code",
   "execution_count": 13,
   "id": "b24d1bfa",
   "metadata": {},
   "outputs": [
    {
     "data": {
      "text/plain": [
       "<langgraph.graph.state.StateGraph at 0x22a3ecafdd0>"
      ]
     },
     "execution_count": 13,
     "metadata": {},
     "output_type": "execute_result"
    }
   ],
   "source": [
    "graph_builder.add_node(\"chatbot\",chatbot)"
   ]
  },
  {
   "cell_type": "code",
   "execution_count": 14,
   "id": "c0129549",
   "metadata": {},
   "outputs": [
    {
     "data": {
      "text/plain": [
       "<langgraph.graph.state.StateGraph at 0x22a3ecafdd0>"
      ]
     },
     "execution_count": 14,
     "metadata": {},
     "output_type": "execute_result"
    }
   ],
   "source": [
    "graph_builder.add_edge(START, \"chatbot\")\n",
    "graph_builder.add_edge(\"chatbot\", END)"
   ]
  },
  {
   "cell_type": "code",
   "execution_count": 15,
   "id": "0e89e0e0",
   "metadata": {},
   "outputs": [],
   "source": [
    "graph = graph_builder.compile()"
   ]
  },
  {
   "cell_type": "code",
   "execution_count": 16,
   "id": "9c0c899d",
   "metadata": {},
   "outputs": [
    {
     "data": {
      "image/png": "[encoded data removed]",
      "text/plain": [
       "<IPython.core.display.Image object>"
      ]
     },
     "metadata": {},
     "output_type": "display_data"
    }
   ],
   "source": [
    "from IPython.display import Image, display\n",
    "try:\n",
    "    display(Image(graph.get_graph().draw_mermaid_png()))\n",
    "except Exception as e:\n",
    "    raise e"
   ]
  },
  {
   "cell_type": "code",
   "execution_count": 17,
   "id": "8597d746",
   "metadata": {},
   "outputs": [
    {
     "name": "stdout",
     "output_type": "stream",
     "text": [
      "dict_values([{'messages': AIMessage(content='Hello. Is there something I can help you with or would you like to chat?', additional_kwargs={}, response_metadata={'token_usage': {'completion_tokens': 18, 'prompt_tokens': 36, 'total_tokens': 54, 'completion_time': 0.020712117, 'prompt_time': 0.001551321, 'queue_time': 0.047809689, 'total_time': 0.022263438}, 'model_name': 'llama-3.1-8b-instant', 'system_fingerprint': 'fp_ab04adca7d', 'service_tier': 'on_demand', 'finish_reason': 'stop', 'logprobs': None}, id='run--b786fa07-c5c8-46cc-8bf3-5ebfbc7eb905-0', usage_metadata={'input_tokens': 36, 'output_tokens': 18, 'total_tokens': 54})}])\n",
      "content='Hello. Is there something I can help you with or would you like to chat?' additional_kwargs={} response_metadata={'token_usage': {'completion_tokens': 18, 'prompt_tokens': 36, 'total_tokens': 54, 'completion_time': 0.020712117, 'prompt_time': 0.001551321, 'queue_time': 0.047809689, 'total_time': 0.022263438}, 'model_name': 'llama-3.1-8b-instant', 'system_fingerprint': 'fp_ab04adca7d', 'service_tier': 'on_demand', 'finish_reason': 'stop', 'logprobs': None} id='run--b786fa07-c5c8-46cc-8bf3-5ebfbc7eb905-0' usage_metadata={'input_tokens': 36, 'output_tokens': 18, 'total_tokens': 54}\n",
      "Assistant:  Hello. Is there something I can help you with or would you like to chat?\n",
      "dict_values([{'messages': AIMessage(content='LangChain is an open-source AI development platform that allows developers to build more complex, human-like AI models by stacking simple models together. It is designed to provide a more structured and maintainable way of building AI applications, and to make it easier for developers to integrate AI into their workflows.\\n\\nLangChain is built on top of the LLM (Large Language Model) technology, which is a type of AI model that can understand and generate human-like text. By combining multiple LLMs, LangChain creates a more powerful and flexible AI system that can perform a wide range of tasks, such as:\\n\\n1. **Question answering**: LangChain can answer complex questions by combining multiple LLMs to retrieve and synthesize information from different sources.\\n2. **Text generation**: LangChain can generate human-like text, such as articles, emails, or chatbot responses.\\n3. **Conversational AI**: LangChain can create conversational AI systems that can understand and respond to user input in a natural way.\\n4. **Data summarization**: LangChain can summarize long pieces of text into shorter, more digestible versions.\\n\\nLangChain is designed to be highly customizable and extensible, allowing developers to build bespoke AI applications that meet their specific needs. It also provides a range of tools and libraries to help developers get started with building AI applications, including:\\n\\n1. **LLM integration**: LangChain provides a simple interface for integrating LLMs into AI applications.\\n2. **Model chaining**: LangChain allows developers to chain multiple LLMs together to create more complex AI models.\\n3. **Data preprocessing**: LangChain provides tools for preprocessing data, such as tokenization and text normalization.\\n4. **Model evaluation**: LangChain provides tools for evaluating the performance of AI models, such as metrics for accuracy and F1-score.\\n\\nOverall, LangChain is a powerful platform for building complex AI applications, and it has the potential to revolutionize the field of natural language processing and AI development.', additional_kwargs={}, response_metadata={'token_usage': {'completion_tokens': 400, 'prompt_tokens': 39, 'total_tokens': 439, 'completion_time': 0.561542621, 'prompt_time': 0.002463579, 'queue_time': 0.052625121, 'total_time': 0.5640062}, 'model_name': 'llama-3.1-8b-instant', 'system_fingerprint': 'fp_7b3cfae3af', 'service_tier': 'on_demand', 'finish_reason': 'stop', 'logprobs': None}, id='run--23c9351c-1ccc-4ec8-b03c-aaed042614f3-0', usage_metadata={'input_tokens': 39, 'output_tokens': 400, 'total_tokens': 439})}])\n",
      "content='LangChain is an open-source AI development platform that allows developers to build more complex, human-like AI models by stacking simple models together. It is designed to provide a more structured and maintainable way of building AI applications, and to make it easier for developers to integrate AI into their workflows.\\n\\nLangChain is built on top of the LLM (Large Language Model) technology, which is a type of AI model that can understand and generate human-like text. By combining multiple LLMs, LangChain creates a more powerful and flexible AI system that can perform a wide range of tasks, such as:\\n\\n1. **Question answering**: LangChain can answer complex questions by combining multiple LLMs to retrieve and synthesize information from different sources.\\n2. **Text generation**: LangChain can generate human-like text, such as articles, emails, or chatbot responses.\\n3. **Conversational AI**: LangChain can create conversational AI systems that can understand and respond to user input in a natural way.\\n4. **Data summarization**: LangChain can summarize long pieces of text into shorter, more digestible versions.\\n\\nLangChain is designed to be highly customizable and extensible, allowing developers to build bespoke AI applications that meet their specific needs. It also provides a range of tools and libraries to help developers get started with building AI applications, including:\\n\\n1. **LLM integration**: LangChain provides a simple interface for integrating LLMs into AI applications.\\n2. **Model chaining**: LangChain allows developers to chain multiple LLMs together to create more complex AI models.\\n3. **Data preprocessing**: LangChain provides tools for preprocessing data, such as tokenization and text normalization.\\n4. **Model evaluation**: LangChain provides tools for evaluating the performance of AI models, such as metrics for accuracy and F1-score.\\n\\nOverall, LangChain is a powerful platform for building complex AI applications, and it has the potential to revolutionize the field of natural language processing and AI development.' additional_kwargs={} response_metadata={'token_usage': {'completion_tokens': 400, 'prompt_tokens': 39, 'total_tokens': 439, 'completion_time': 0.561542621, 'prompt_time': 0.002463579, 'queue_time': 0.052625121, 'total_time': 0.5640062}, 'model_name': 'llama-3.1-8b-instant', 'system_fingerprint': 'fp_7b3cfae3af', 'service_tier': 'on_demand', 'finish_reason': 'stop', 'logprobs': None} id='run--23c9351c-1ccc-4ec8-b03c-aaed042614f3-0' usage_metadata={'input_tokens': 39, 'output_tokens': 400, 'total_tokens': 439}\n",
      "Assistant:  LangChain is an open-source AI development platform that allows developers to build more complex, human-like AI models by stacking simple models together. It is designed to provide a more structured and maintainable way of building AI applications, and to make it easier for developers to integrate AI into their workflows.\n",
      "\n",
      "LangChain is built on top of the LLM (Large Language Model) technology, which is a type of AI model that can understand and generate human-like text. By combining multiple LLMs, LangChain creates a more powerful and flexible AI system that can perform a wide range of tasks, such as:\n",
      "\n",
      "1. **Question answering**: LangChain can answer complex questions by combining multiple LLMs to retrieve and synthesize information from different sources.\n",
      "2. **Text generation**: LangChain can generate human-like text, such as articles, emails, or chatbot responses.\n",
      "3. **Conversational AI**: LangChain can create conversational AI systems that can understand and respond to user input in a natural way.\n",
      "4. **Data summarization**: LangChain can summarize long pieces of text into shorter, more digestible versions.\n",
      "\n",
      "LangChain is designed to be highly customizable and extensible, allowing developers to build bespoke AI applications that meet their specific needs. It also provides a range of tools and libraries to help developers get started with building AI applications, including:\n",
      "\n",
      "1. **LLM integration**: LangChain provides a simple interface for integrating LLMs into AI applications.\n",
      "2. **Model chaining**: LangChain allows developers to chain multiple LLMs together to create more complex AI models.\n",
      "3. **Data preprocessing**: LangChain provides tools for preprocessing data, such as tokenization and text normalization.\n",
      "4. **Model evaluation**: LangChain provides tools for evaluating the performance of AI models, such as metrics for accuracy and F1-score.\n",
      "\n",
      "Overall, LangChain is a powerful platform for building complex AI applications, and it has the potential to revolutionize the field of natural language processing and AI development.\n",
      "dict_values([{'messages': AIMessage(content=\"I'm an artificial intelligence model known as a large language model (LLM) or chatbot. I'm a computer program designed to simulate conversations, answer questions, and provide information on a wide range of topics. I'm here to assist and communicate with you in a helpful and engaging way.\\n\\nI don't have a personal identity or emotions like humans do, but I'm designed to be friendly, neutral, and informative. I can understand and respond to natural language inputs, and I'm constantly learning and improving my knowledge base to provide more accurate and up-to-date information.\\n\\nFeel free to ask me anything, and I'll do my best to help!\", additional_kwargs={}, response_metadata={'token_usage': {'completion_tokens': 132, 'prompt_tokens': 39, 'total_tokens': 171, 'completion_time': 0.164788304, 'prompt_time': 0.001754211, 'queue_time': 0.049254529, 'total_time': 0.166542515}, 'model_name': 'llama-3.1-8b-instant', 'system_fingerprint': 'fp_33e8adf159', 'service_tier': 'on_demand', 'finish_reason': 'stop', 'logprobs': None}, id='run--c062b770-39ed-4e6d-8b76-019dc42c6b3c-0', usage_metadata={'input_tokens': 39, 'output_tokens': 132, 'total_tokens': 171})}])\n",
      "content=\"I'm an artificial intelligence model known as a large language model (LLM) or chatbot. I'm a computer program designed to simulate conversations, answer questions, and provide information on a wide range of topics. I'm here to assist and communicate with you in a helpful and engaging way.\\n\\nI don't have a personal identity or emotions like humans do, but I'm designed to be friendly, neutral, and informative. I can understand and respond to natural language inputs, and I'm constantly learning and improving my knowledge base to provide more accurate and up-to-date information.\\n\\nFeel free to ask me anything, and I'll do my best to help!\" additional_kwargs={} response_metadata={'token_usage': {'completion_tokens': 132, 'prompt_tokens': 39, 'total_tokens': 171, 'completion_time': 0.164788304, 'prompt_time': 0.001754211, 'queue_time': 0.049254529, 'total_time': 0.166542515}, 'model_name': 'llama-3.1-8b-instant', 'system_fingerprint': 'fp_33e8adf159', 'service_tier': 'on_demand', 'finish_reason': 'stop', 'logprobs': None} id='run--c062b770-39ed-4e6d-8b76-019dc42c6b3c-0' usage_metadata={'input_tokens': 39, 'output_tokens': 132, 'total_tokens': 171}\n",
      "Assistant:  I'm an artificial intelligence model known as a large language model (LLM) or chatbot. I'm a computer program designed to simulate conversations, answer questions, and provide information on a wide range of topics. I'm here to assist and communicate with you in a helpful and engaging way.\n",
      "\n",
      "I don't have a personal identity or emotions like humans do, but I'm designed to be friendly, neutral, and informative. I can understand and respond to natural language inputs, and I'm constantly learning and improving my knowledge base to provide more accurate and up-to-date information.\n",
      "\n",
      "Feel free to ask me anything, and I'll do my best to help!\n",
      "Sayonara!\n"
     ]
    }
   ],
   "source": [
    "while True:\n",
    "    user_input = input(\"User: \")\n",
    "    if user_input.lower() in [\"quit\", \"q\"]:\n",
    "        print(\"Sayonara!\")\n",
    "        break\n",
    "\n",
    "    for event in graph.stream({\"messages\":(\"user\", user_input)}):\n",
    "        print(event.values())\n",
    "        for value in event.values():\n",
    "            print(value[\"messages\"])\n",
    "            print(\"Assistant: \", value[\"messages\"].content)"
   ]
  },
  {
   "cell_type": "code",
   "execution_count": null,
   "id": "ba84c95e",
   "metadata": {},
   "outputs": [],
   "source": []
  }
 ],
 "metadata": {
  "kernelspec": {
   "display_name": "Python 3",
   "language": "python",
   "name": "python3"
  },
  "language_info": {
   "codemirror_mode": {
    "name": "ipython",
    "version": 3
   },
   "file_extension": ".py",
   "mimetype": "text/x-python",
   "name": "python",
   "nbconvert_exporter": "python",
   "pygments_lexer": "ipython3",
   "version": "3.12.0"
  }
 },
 "nbformat": 4,
 "nbformat_minor": 5
}
