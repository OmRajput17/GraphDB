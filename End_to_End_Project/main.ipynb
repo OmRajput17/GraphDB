{
 "cells": [
  {
   "cell_type": "code",
   "execution_count": 1,
   "id": "d740e34c",
   "metadata": {},
   "outputs": [],
   "source": [
    "import cassio\n",
    "import os\n",
    "from dotenv import load_dotenv\n",
    "\n",
    "load_dotenv()\n",
    "\n",
    "ASTRA_DB_APPLICATION_TOKEN = os.getenv(\"ASTRA_DB_APPLICATION_TOKEN\")\n",
    "ASTRA_DB_ID = os.getenv(\"ASTRA_DB_ID\")\n",
    "\n",
    "cassio.init(\n",
    "    token=ASTRA_DB_APPLICATION_TOKEN,\n",
    "    database_id=ASTRA_DB_ID\n",
    ")"
   ]
  },
  {
   "cell_type": "code",
   "execution_count": 2,
   "id": "97c32bb9",
   "metadata": {},
   "outputs": [
    {
     "name": "stderr",
     "output_type": "stream",
     "text": [
      "USER_AGENT environment variable not set, consider setting it to identify your requests.\n"
     ]
    }
   ],
   "source": [
    "from langchain.text_splitter import RecursiveCharacterTextSplitter\n",
    "from langchain_community.document_loaders import WebBaseLoader\n",
    "\n",
    "# Docs to index\n",
    "urls = [\n",
    "    \"https://lilianweng.github.io/posts/2023-06-23-agent/\",\n",
    "    \"https://lilianweng.github.io/posts/2023-03-15-prompt-engineering/\",\n",
    "    \"https://lilianweng.github.io/posts/2023-10-25-adv-attack-llm/\",\n",
    "]\n",
    "\n",
    "docs = [WebBaseLoader(url).load() for url in urls]\n",
    "\n",
    "docs_list = [item for sublist in docs for item in sublist]\n",
    "\n",
    "##Split\n",
    "text_splitter = RecursiveCharacterTextSplitter.from_tiktoken_encoder(\n",
    "    chunk_size = 500, chunk_overlap = 0\n",
    ")\n",
    "\n",
    "\n",
    "\n",
    "doc_split = text_splitter.split_documents(docs_list)"
   ]
  },
  {
   "cell_type": "code",
   "execution_count": null,
   "id": "22bb7287",
   "metadata": {},
   "outputs": [],
   "source": [
    "import tqdm as notebook_tqdm"
   ]
  },
  {
   "cell_type": "code",
   "execution_count": 4,
   "id": "f2bc78e8",
   "metadata": {},
   "outputs": [
    {
     "name": "stderr",
     "output_type": "stream",
     "text": [
      "d:\\LangChain_Projects\\GraphLangChain\\venv\\lib\\site-packages\\tqdm\\auto.py:21: TqdmWarning: IProgress not found. Please update jupyter and ipywidgets. See https://ipywidgets.readthedocs.io/en/stable/user_install.html\n",
      "  from .autonotebook import tqdm as notebook_tqdm\n"
     ]
    }
   ],
   "source": [
    "from langchain_huggingface import HuggingFaceEmbeddings\n",
    "embeddings = HuggingFaceEmbeddings(model_name=\"all-MiniLM-L6-v2\")"
   ]
  },
  {
   "cell_type": "code",
   "execution_count": 5,
   "id": "c02ece34",
   "metadata": {},
   "outputs": [
    {
     "data": {
      "text/plain": [
       "ChatGroq(client=<groq.resources.chat.completions.Completions object at 0x000001F11CD83670>, async_client=<groq.resources.chat.completions.AsyncCompletions object at 0x000001F11CC99AB0>, model_name='llama-3.1-8b-instant', model_kwargs={}, groq_api_key=SecretStr('**********'))"
      ]
     },
     "execution_count": 5,
     "metadata": {},
     "output_type": "execute_result"
    }
   ],
   "source": [
    "from langchain_groq import ChatGroq\n",
    "\n",
    "groq_api_key = os.getenv(\"GROQ_API_KEY\")\n",
    "\n",
    "from langchain_groq import ChatGroq\n",
    "\n",
    "llm = ChatGroq(api_key=groq_api_key, model_name = \"llama-3.1-8b-instant\")\n",
    "llm"
   ]
  },
  {
   "cell_type": "code",
   "execution_count": 6,
   "id": "5f9b9bb6",
   "metadata": {},
   "outputs": [],
   "source": [
    "from langchain.vectorstores.cassandra import Cassandra \n",
    "astra_db = Cassandra(\n",
    "    embedding=embeddings,\n",
    "    table_name= \"QA_mini\",\n",
    "    session = None,\n",
    "    keyspace = None, \n",
    ")"
   ]
  },
  {
   "cell_type": "code",
   "execution_count": 7,
   "id": "0d3cd966",
   "metadata": {},
   "outputs": [
    {
     "name": "stdout",
     "output_type": "stream",
     "text": [
      "inserted 88 headlines.\n"
     ]
    }
   ],
   "source": [
    "from langchain.indexes.vectorstore import VectorStoreIndexWrapper\n",
    "astra_db.add_documents(doc_split)\n",
    "\n",
    "print(\"inserted %i headlines.\" % len(doc_split))\n",
    "astra_index = VectorStoreIndexWrapper(vectorstore = astra_db)"
   ]
  },
  {
   "cell_type": "code",
   "execution_count": 8,
   "id": "698567c2",
   "metadata": {},
   "outputs": [
    {
     "data": {
      "text/plain": [
       "[Document(id='3b2ce3bac86a487e9a3b370f71abf3bf', metadata={'description': 'Building agents with LLM (large language model) as its core controller is a cool concept. Several proof-of-concepts demos, such as AutoGPT, GPT-Engineer and BabyAGI, serve as inspiring examples. The potentiality of LLM extends beyond generating well-written copies, stories, essays and programs; it can be framed as a powerful general problem solver.\\nAgent System Overview\\nIn a LLM-powered autonomous agent system, LLM functions as the agent’s brain, complemented by several key components:\\n\\nPlanning\\n\\nSubgoal and decomposition: The agent breaks down large tasks into smaller, manageable subgoals, enabling efficient handling of complex tasks.\\nReflection and refinement: The agent can do self-criticism and self-reflection over past actions, learn from mistakes and refine them for future steps, thereby improving the quality of final results.\\n\\n\\nMemory\\n\\nShort-term memory: I would consider all the in-context learning (See Prompt Engineering) as utilizing short-term memory of the model to learn.\\nLong-term memory: This provides the agent with the capability to retain and recall (infinite) information over extended periods, often by leveraging an external vector store and fast retrieval.\\n\\n\\nTool use\\n\\nThe agent learns to call external APIs for extra information that is missing from the model weights (often hard to change after pre-training), including current information, code execution capability, access to proprietary information sources and more.\\n\\n\\n\\n\\n\\t\\n\\tOverview of a LLM-powered autonomous agent system.\\n\\nComponent One: Planning\\nA complicated task usually involves many steps. An agent needs to know what they are and plan ahead.', 'language': 'en', 'source': 'https://lilianweng.github.io/posts/2023-06-23-agent/', 'title': \"LLM Powered Autonomous Agents | Lil'Log\"}, page_content='The agent learns to call external APIs for extra information that is missing from the model weights (often hard to change after pre-training), including current information, code execution capability, access to proprietary information sources and more.\\n\\n\\n\\n\\n\\nOverview of a LLM-powered autonomous agent system.'),\n",
       " Document(id='4e856cc62faa4a568c5199e10b48464e', metadata={'description': 'Building agents with LLM (large language model) as its core controller is a cool concept. Several proof-of-concepts demos, such as AutoGPT, GPT-Engineer and BabyAGI, serve as inspiring examples. The potentiality of LLM extends beyond generating well-written copies, stories, essays and programs; it can be framed as a powerful general problem solver.\\nAgent System Overview\\nIn a LLM-powered autonomous agent system, LLM functions as the agent’s brain, complemented by several key components:\\n\\nPlanning\\n\\nSubgoal and decomposition: The agent breaks down large tasks into smaller, manageable subgoals, enabling efficient handling of complex tasks.\\nReflection and refinement: The agent can do self-criticism and self-reflection over past actions, learn from mistakes and refine them for future steps, thereby improving the quality of final results.\\n\\n\\nMemory\\n\\nShort-term memory: I would consider all the in-context learning (See Prompt Engineering) as utilizing short-term memory of the model to learn.\\nLong-term memory: This provides the agent with the capability to retain and recall (infinite) information over extended periods, often by leveraging an external vector store and fast retrieval.\\n\\n\\nTool use\\n\\nThe agent learns to call external APIs for extra information that is missing from the model weights (often hard to change after pre-training), including current information, code execution capability, access to proprietary information sources and more.\\n\\n\\n\\n\\n\\t\\n\\tOverview of a LLM-powered autonomous agent system.\\n\\nComponent One: Planning\\nA complicated task usually involves many steps. An agent needs to know what they are and plan ahead.', 'language': 'en', 'source': 'https://lilianweng.github.io/posts/2023-06-23-agent/', 'title': \"LLM Powered Autonomous Agents | Lil'Log\"}, page_content='The agent learns to call external APIs for extra information that is missing from the model weights (often hard to change after pre-training), including current information, code execution capability, access to proprietary information sources and more.\\n\\n\\n\\n\\n\\nOverview of a LLM-powered autonomous agent system.'),\n",
       " Document(id='838cf0724e4b4c78b2ddd67a88284e6c', metadata={'description': 'Building agents with LLM (large language model) as its core controller is a cool concept. Several proof-of-concepts demos, such as AutoGPT, GPT-Engineer and BabyAGI, serve as inspiring examples. The potentiality of LLM extends beyond generating well-written copies, stories, essays and programs; it can be framed as a powerful general problem solver.\\nAgent System Overview\\nIn a LLM-powered autonomous agent system, LLM functions as the agent’s brain, complemented by several key components:\\n\\nPlanning\\n\\nSubgoal and decomposition: The agent breaks down large tasks into smaller, manageable subgoals, enabling efficient handling of complex tasks.\\nReflection and refinement: The agent can do self-criticism and self-reflection over past actions, learn from mistakes and refine them for future steps, thereby improving the quality of final results.\\n\\n\\nMemory\\n\\nShort-term memory: I would consider all the in-context learning (See Prompt Engineering) as utilizing short-term memory of the model to learn.\\nLong-term memory: This provides the agent with the capability to retain and recall (infinite) information over extended periods, often by leveraging an external vector store and fast retrieval.\\n\\n\\nTool use\\n\\nThe agent learns to call external APIs for extra information that is missing from the model weights (often hard to change after pre-training), including current information, code execution capability, access to proprietary information sources and more.\\n\\n\\n\\n\\n\\t\\n\\tOverview of a LLM-powered autonomous agent system.\\n\\nComponent One: Planning\\nA complicated task usually involves many steps. An agent needs to know what they are and plan ahead.', 'language': 'en', 'source': 'https://lilianweng.github.io/posts/2023-06-23-agent/', 'title': \"LLM Powered Autonomous Agents | Lil'Log\"}, page_content='Planning is essentially in order to optimize believability at the moment vs in time.\\nPrompt template: {Intro of an agent X}. Here is X\\'s plan today in broad strokes: 1)\\nRelationships between agents and observations of one agent by another are all taken into consideration for planning and reacting.\\nEnvironment information is present in a tree structure.\\n\\n\\n\\n\\n\\nThe generative agent architecture. (Image source: Park et al. 2023)\\n\\nThis fun simulation results in emergent social behavior, such as information diffusion, relationship memory (e.g. two agents continuing the conversation topic) and coordination of social events (e.g. host a party and invite many others).\\nProof-of-Concept Examples#\\nAutoGPT has drawn a lot of attention into the possibility of setting up autonomous agents with LLM as the main controller. It has quite a lot of reliability issues given the natural language interface, but nevertheless a cool proof-of-concept demo. A lot of code in AutoGPT is about format parsing.\\nHere is the system message used by AutoGPT, where {{...}} are user inputs:\\nYou are {{ai-name}}, {{user-provided AI bot description}}.\\nYour decisions must always be made independently without seeking user assistance. Play to your strengths as an LLM and pursue simple strategies with no legal complications.\\n\\nGOALS:\\n\\n1. {{user-provided goal 1}}\\n2. {{user-provided goal 2}}\\n3. ...\\n4. ...\\n5. ...\\n\\nConstraints:\\n1. ~4000 word limit for short term memory. Your short term memory is short, so immediately save important information to files.\\n2. If you are unsure how you previously did something or want to recall past events, thinking about similar events will help you remember.\\n3. No user assistance\\n4. Exclusively use the commands listed in double quotes e.g. \"command name\"\\n5. Use subprocesses for commands that will not terminate within a few minutes'),\n",
       " Document(id='d1f0fe54d87b4749a274d4673431083c', metadata={'description': 'Building agents with LLM (large language model) as its core controller is a cool concept. Several proof-of-concepts demos, such as AutoGPT, GPT-Engineer and BabyAGI, serve as inspiring examples. The potentiality of LLM extends beyond generating well-written copies, stories, essays and programs; it can be framed as a powerful general problem solver.\\nAgent System Overview\\nIn a LLM-powered autonomous agent system, LLM functions as the agent’s brain, complemented by several key components:\\n\\nPlanning\\n\\nSubgoal and decomposition: The agent breaks down large tasks into smaller, manageable subgoals, enabling efficient handling of complex tasks.\\nReflection and refinement: The agent can do self-criticism and self-reflection over past actions, learn from mistakes and refine them for future steps, thereby improving the quality of final results.\\n\\n\\nMemory\\n\\nShort-term memory: I would consider all the in-context learning (See Prompt Engineering) as utilizing short-term memory of the model to learn.\\nLong-term memory: This provides the agent with the capability to retain and recall (infinite) information over extended periods, often by leveraging an external vector store and fast retrieval.\\n\\n\\nTool use\\n\\nThe agent learns to call external APIs for extra information that is missing from the model weights (often hard to change after pre-training), including current information, code execution capability, access to proprietary information sources and more.\\n\\n\\n\\n\\n\\t\\n\\tOverview of a LLM-powered autonomous agent system.\\n\\nComponent One: Planning\\nA complicated task usually involves many steps. An agent needs to know what they are and plan ahead.', 'language': 'en', 'source': 'https://lilianweng.github.io/posts/2023-06-23-agent/', 'title': \"LLM Powered Autonomous Agents | Lil'Log\"}, page_content='Planning is essentially in order to optimize believability at the moment vs in time.\\nPrompt template: {Intro of an agent X}. Here is X\\'s plan today in broad strokes: 1)\\nRelationships between agents and observations of one agent by another are all taken into consideration for planning and reacting.\\nEnvironment information is present in a tree structure.\\n\\n\\n\\n\\n\\nThe generative agent architecture. (Image source: Park et al. 2023)\\n\\nThis fun simulation results in emergent social behavior, such as information diffusion, relationship memory (e.g. two agents continuing the conversation topic) and coordination of social events (e.g. host a party and invite many others).\\nProof-of-Concept Examples#\\nAutoGPT has drawn a lot of attention into the possibility of setting up autonomous agents with LLM as the main controller. It has quite a lot of reliability issues given the natural language interface, but nevertheless a cool proof-of-concept demo. A lot of code in AutoGPT is about format parsing.\\nHere is the system message used by AutoGPT, where {{...}} are user inputs:\\nYou are {{ai-name}}, {{user-provided AI bot description}}.\\nYour decisions must always be made independently without seeking user assistance. Play to your strengths as an LLM and pursue simple strategies with no legal complications.\\n\\nGOALS:\\n\\n1. {{user-provided goal 1}}\\n2. {{user-provided goal 2}}\\n3. ...\\n4. ...\\n5. ...\\n\\nConstraints:\\n1. ~4000 word limit for short term memory. Your short term memory is short, so immediately save important information to files.\\n2. If you are unsure how you previously did something or want to recall past events, thinking about similar events will help you remember.\\n3. No user assistance\\n4. Exclusively use the commands listed in double quotes e.g. \"command name\"\\n5. Use subprocesses for commands that will not terminate within a few minutes')]"
      ]
     },
     "execution_count": 8,
     "metadata": {},
     "output_type": "execute_result"
    }
   ],
   "source": [
    "retriever = astra_db.as_retriever()\n",
    "retriever.invoke(\"What is an Agent?\")"
   ]
  },
  {
   "cell_type": "markdown",
   "id": "3a898063",
   "metadata": {},
   "source": [
    "## LangGraph Application"
   ]
  },
  {
   "cell_type": "code",
   "execution_count": 9,
   "id": "0edf49ca",
   "metadata": {},
   "outputs": [
    {
     "name": "stderr",
     "output_type": "stream",
     "text": [
      "d:\\LangChain_Projects\\GraphLangChain\\venv\\lib\\site-packages\\IPython\\core\\interactiveshell.py:3579: LangChainDeprecationWarning: As of langchain-core 0.3.0, LangChain uses pydantic v2 internally. The langchain_core.pydantic_v1 module was a compatibility shim for pydantic v1, and should no longer be used. Please update the code to import from Pydantic directly.\n",
      "\n",
      "For example, replace imports like: `from langchain_core.pydantic_v1 import BaseModel`\n",
      "with: `from pydantic import BaseModel`\n",
      "or the v1 compatibility namespace if you are working in a code base that has not been fully upgraded to pydantic 2 yet. \tfrom pydantic.v1 import BaseModel\n",
      "\n",
      "  exec(code_obj, self.user_global_ns, self.user_ns)\n"
     ]
    }
   ],
   "source": [
    "from typing import Literal\n",
    "\n",
    "from langchain_core.prompts import ChatPromptTemplate\n",
    "from langchain_core.pydantic_v1 import BaseModel, Field"
   ]
  },
  {
   "cell_type": "code",
   "execution_count": 10,
   "id": "c61c4f18",
   "metadata": {},
   "outputs": [],
   "source": [
    "## Data Model \n",
    "\n",
    "class RouteQuery(BaseModel):\n",
    "    \"\"\"Route a user query to the most relevant datasource.\"\"\"\n",
    "\n",
    "    datasource: Literal[\"vectorstore\",\"wiki_search\"] = Field(\n",
    "        ...,\n",
    "        description=\"Given a user question choose to route it to wikipedia or a vectorstore.\"\n",
    "    )"
   ]
  },
  {
   "cell_type": "code",
   "execution_count": 11,
   "id": "35c40f4f",
   "metadata": {},
   "outputs": [],
   "source": [
    "structures_llm_router = llm.with_structured_output(RouteQuery)"
   ]
  },
  {
   "cell_type": "code",
   "execution_count": 12,
   "id": "97eac387",
   "metadata": {},
   "outputs": [
    {
     "name": "stdout",
     "output_type": "stream",
     "text": [
      "datasource='wiki_search'\n",
      "datasource='vectorstore'\n"
     ]
    }
   ],
   "source": [
    "# Prompt\n",
    "system = \"\"\"You are an expert at routing a user question to a vectorstore or wikipedia.\n",
    "The vectorstore contains documents related to agents, prompt engineering, and adversarial attacks.\n",
    "Use the vectorstore for questions on these topics. Otherwise, use wiki-search.\"\"\"\n",
    "route_prompt = ChatPromptTemplate.from_messages(\n",
    "    [\n",
    "        (\"system\", system),\n",
    "        (\"human\", \"{question}\"),\n",
    "    ]\n",
    ")\n",
    "\n",
    "question_router = route_prompt | structures_llm_router\n",
    "\n",
    "print(\n",
    "    question_router.invoke(\n",
    "        {\"question\":\"What is generative AI?\"}\n",
    "    )\n",
    ")\n",
    "\n",
    "print(question_router.invoke({\"question\":\"WHat are the types of agent memory?\"}))"
   ]
  },
  {
   "cell_type": "code",
   "execution_count": 13,
   "id": "3b1c93e0",
   "metadata": {},
   "outputs": [],
   "source": [
    "from langchain_community.utilities import WikipediaAPIWrapper, ArxivAPIWrapper\n",
    "from langchain_community.tools import ArxivQueryRun, WikipediaQueryRun\n",
    "\n",
    "## Arxiv and Wikipedia tools\n",
    "\n",
    "arxiv_wrapper = ArxivAPIWrapper(\n",
    "    top_k_results=1,\n",
    "    doc_content_chars_max=200,\n",
    ")\n",
    "\n",
    "arxiv = ArxivQueryRun(api_wrapper=arxiv_wrapper)\n",
    "\n",
    "wiki_wrapper = WikipediaAPIWrapper(\n",
    "    top_k_results=1,\n",
    "    doc_content_chars_max=200,\n",
    ")\n",
    "\n",
    "wikipedia = WikipediaQueryRun(api_wrapper=wiki_wrapper)"
   ]
  },
  {
   "cell_type": "code",
   "execution_count": 14,
   "id": "7df50a76",
   "metadata": {},
   "outputs": [],
   "source": [
    "## Graph\n",
    "\n",
    "from typing import List\n",
    "\n",
    "from typing_extensions import TypedDict\n",
    "\n",
    "\n",
    "class GraphState(TypedDict):\n",
    "    \"\"\"\n",
    "    Represents the state of our graph.\n",
    "\n",
    "    Attributes:\n",
    "        question: question\n",
    "        generation: LLM generation\n",
    "        documents: list of documents\n",
    "    \"\"\"\n",
    "\n",
    "    question: str\n",
    "    generation: str\n",
    "    documents: List[str]"
   ]
  },
  {
   "cell_type": "code",
   "execution_count": 15,
   "id": "65dd0c86",
   "metadata": {},
   "outputs": [],
   "source": [
    "from langchain.schema import Document\n",
    "\n",
    "def retrieve(state):\n",
    "    \"\"\"\n",
    "    Retrieve Documents\n",
    "\n",
    "    Args:\n",
    "        state (Dict) : The Current Graph State\n",
    "\n",
    "    Returns:\n",
    "        state (Dict) : New Key Added to state, documents, that contains retrieved documents\n",
    "    \"\"\"\n",
    "\n",
    "    question = state[\"question\"]\n",
    "\n",
    "    ## Retrieval\n",
    "    documents = retriever.invoke(question)\n",
    "\n",
    "    return {\"documents\" : documents, \"questions\" : question}"
   ]
  },
  {
   "cell_type": "code",
   "execution_count": 16,
   "id": "9da3158c",
   "metadata": {},
   "outputs": [],
   "source": [
    "def wiki_search(state):\n",
    "    \"\"\"\n",
    "    wiki search based on re-phrased question\n",
    "\n",
    "    Args:\n",
    "        state(dict): The current graph state\n",
    "    Returns:\n",
    "        state(dict): Updates documents key with appended web results\n",
    "    \"\"\"\n",
    "\n",
    "    print(\"---WikiPedia---\")\n",
    "\n",
    "    question = state[\"question\"]\n",
    "    print(question)\n",
    "\n",
    "    docs = wikipedia.invoke({\"query\":question})\n",
    "\n",
    "    wiki_results = Document(page_content=docs)\n",
    "\n",
    "    return {\"documents\": wiki_results, \"questions\":question}"
   ]
  },
  {
   "cell_type": "code",
   "execution_count": 18,
   "id": "3c8125e1",
   "metadata": {},
   "outputs": [],
   "source": [
    "### Edges \n",
    "\n",
    "def route_question(state):\n",
    "    \"\"\"\n",
    "    Route Question to wiki search or RAG\n",
    "\n",
    "    Args:\n",
    "        state(dict) : The current Graph State\n",
    "    Returns:\n",
    "        state: Next Node to call\n",
    "    \"\"\"\n",
    "\n",
    "    print(\"---ROUTE QUESTIONS---\")\n",
    "    question = state[\"question\"]\n",
    "    source = question_router.invoke({\"question\":question})\n",
    "\n",
    "    if source.datasource == \"wiki_search\":\n",
    "        print(\"---Route Question to Wiki Search---\")\n",
    "        return \"wiki_search\"\n",
    "    elif source.datasource == \"vectorstore\":\n",
    "        print(\"---Route Question to Vector Search---\")\n",
    "        return \"vectorstore\""
   ]
  },
  {
   "cell_type": "code",
   "execution_count": 19,
   "id": "94919670",
   "metadata": {},
   "outputs": [],
   "source": [
    "from langgraph.graph import START, END, StateGraph\n",
    "\n",
    "workflow = StateGraph(GraphState)\n",
    "\n",
    "## Define the nodes\n",
    "workflow.add_node(\"wiki_search\", wiki_search) ## Web Search\n",
    "workflow.add_node(\"retrieve\", retrieve) ## Web Search\n",
    "\n",
    "## Build the graph\n",
    "workflow.add_conditional_edges(\n",
    "    START,\n",
    "    route_question,\n",
    "    {\n",
    "        \"wiki_search\":\"wiki_search\",\n",
    "        \"vectorstore\":\"retrieve\"\n",
    "    },\n",
    ")\n",
    "\n",
    "workflow.add_edge(\n",
    "    \"retrieve\", END\n",
    ")\n",
    "\n",
    "workflow.add_edge(\n",
    "    \"wiki_search\", END\n",
    ")\n",
    "\n",
    "# compile\n",
    "app = workflow.compile()"
   ]
  },
  {
   "cell_type": "code",
   "execution_count": 22,
   "id": "de7d72bd",
   "metadata": {},
   "outputs": [
    {
     "data": {
      "image/png": "[encoded data removed]",
      "text/plain": [
       "<IPython.core.display.Image object>"
      ]
     },
     "metadata": {},
     "output_type": "display_data"
    }
   ],
   "source": [
    "from IPython.display import Image, display\n",
    "\n",
    "try:\n",
    "    display(Image(app.get_graph().draw_mermaid_png()))\n",
    "except Exception as e:\n",
    "    pass"
   ]
  },
  {
   "cell_type": "code",
   "execution_count": 23,
   "id": "ae03e10a",
   "metadata": {},
   "outputs": [
    {
     "name": "stdout",
     "output_type": "stream",
     "text": [
      "---ROUTE QUESTIONS---\n",
      "---Route Question to Vector Search---\n",
      "\"Node 'retrieve':\"\n",
      "'\\n---\\n'\n",
      "('Building agents with LLM (large language model) as its core controller is a '\n",
      " 'cool concept. Several proof-of-concepts demos, such as AutoGPT, GPT-Engineer '\n",
      " 'and BabyAGI, serve as inspiring examples. The potentiality of LLM extends '\n",
      " 'beyond generating well-written copies, stories, essays and programs; it can '\n",
      " 'be framed as a powerful general problem solver.\\n'\n",
      " 'Agent System Overview\\n'\n",
      " 'In a LLM-powered autonomous agent system, LLM functions as the agent’s '\n",
      " 'brain, complemented by several key components:\\n'\n",
      " '\\n'\n",
      " 'Planning\\n'\n",
      " '\\n'\n",
      " 'Subgoal and decomposition: The agent breaks down large tasks into smaller, '\n",
      " 'manageable subgoals, enabling efficient handling of complex tasks.\\n'\n",
      " 'Reflection and refinement: The agent can do self-criticism and '\n",
      " 'self-reflection over past actions, learn from mistakes and refine them for '\n",
      " 'future steps, thereby improving the quality of final results.\\n'\n",
      " '\\n'\n",
      " '\\n'\n",
      " 'Memory\\n'\n",
      " '\\n'\n",
      " 'Short-term memory: I would consider all the in-context learning (See Prompt '\n",
      " 'Engineering) as utilizing short-term memory of the model to learn.\\n'\n",
      " 'Long-term memory: This provides the agent with the capability to retain and '\n",
      " 'recall (infinite) information over extended periods, often by leveraging an '\n",
      " 'external vector store and fast retrieval.\\n'\n",
      " '\\n'\n",
      " '\\n'\n",
      " 'Tool use\\n'\n",
      " '\\n'\n",
      " 'The agent learns to call external APIs for extra information that is missing '\n",
      " 'from the model weights (often hard to change after pre-training), including '\n",
      " 'current information, code execution capability, access to proprietary '\n",
      " 'information sources and more.\\n'\n",
      " '\\n'\n",
      " '\\n'\n",
      " '\\n'\n",
      " '\\n'\n",
      " '\\t\\n'\n",
      " '\\tOverview of a LLM-powered autonomous agent system.\\n'\n",
      " '\\n'\n",
      " 'Component One: Planning\\n'\n",
      " 'A complicated task usually involves many steps. An agent needs to know what '\n",
      " 'they are and plan ahead.')\n"
     ]
    },
    {
     "name": "stderr",
     "output_type": "stream",
     "text": [
      "C:\\Users\\rajpu\\AppData\\Local\\Temp\\ipykernel_12424\\1919254234.py:15: PydanticDeprecatedSince20: The `dict` method is deprecated; use `model_dump` instead. Deprecated in Pydantic V2.0 to be removed in V3.0. See Pydantic V2 Migration Guide at https://errors.pydantic.dev/2.12/migration/\n",
      "  pprint(value['documents'][0].dict()[\"metadata\"][\"description\"])\n"
     ]
    }
   ],
   "source": [
    "from pprint import pprint\n",
    "#Run\n",
    "\n",
    "inputs = {\n",
    "    \"question\":\"What is agent?\"\n",
    "}\n",
    "\n",
    "for output in app.stream(inputs):\n",
    "    for key, value in output.items():\n",
    "        pprint(f\"Node '{key}':\")\n",
    "\n",
    "    pprint(\"\\n---\\n\")\n",
    "\n",
    "## Final Generation\n",
    "pprint(value['documents'][0].dict()[\"metadata\"][\"description\"])"
   ]
  },
  {
   "cell_type": "code",
   "execution_count": 27,
   "id": "6d7af2c6",
   "metadata": {},
   "outputs": [
    {
     "name": "stdout",
     "output_type": "stream",
     "text": [
      "---ROUTE QUESTIONS---\n",
      "---Route Question to Wiki Search---\n",
      "---WikiPedia---\n",
      "Who is the father of Machine Learning?\n",
      "\"Node 'wiki_search':\"\n",
      "'\\n---\\n'\n",
      "Document(metadata={}, page_content='Page: Transformer (deep learning architecture)\\nSummary: In deep learning, the transformer is a neural network architecture based on the multi-head attention mechanism, in which text is converted to nu')\n"
     ]
    }
   ],
   "source": [
    "from pprint import pprint\n",
    "#Run\n",
    "\n",
    "inputs = {\n",
    "    \"question\":\"Who is the father of Machine Learning?\"\n",
    "}\n",
    "\n",
    "for output in app.stream(inputs):\n",
    "    for key, value in output.items():\n",
    "        pprint(f\"Node '{key}':\")\n",
    "\n",
    "    pprint(\"\\n---\\n\")\n",
    "\n",
    "## Final Generation\n",
    "pprint(value['documents'])"
   ]
  },
  {
   "cell_type": "code",
   "execution_count": null,
   "id": "df0ab4d5",
   "metadata": {},
   "outputs": [],
   "source": []
  }
 ],
 "metadata": {
  "kernelspec": {
   "display_name": "Python 3",
   "language": "python",
   "name": "python3"
  },
  "language_info": {
   "codemirror_mode": {
    "name": "ipython",
    "version": 3
   },
   "file_extension": ".py",
   "mimetype": "text/x-python",
   "name": "python",
   "nbconvert_exporter": "python",
   "pygments_lexer": "ipython3",
   "version": "3.10.0"
  }
 },
 "nbformat": 4,
 "nbformat_minor": 5
}
